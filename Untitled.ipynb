{
 "cells": [
  {
   "cell_type": "code",
   "execution_count": 2,
   "id": "85a4ff81",
   "metadata": {},
   "outputs": [],
   "source": [
    "\n",
    "import numpy as np\n",
    "import pandas as pd\n",
    "from sklearn.linear_model import LogisticRegression\n",
    "from sklearn.model_selection import train_test_split\n",
    "import warnings\n",
    "import pickle\n",
    "warnings.filterwarnings(\"ignore\")"
   ]
  },
  {
   "cell_type": "code",
   "execution_count": 11,
   "id": "d6a5c1cc",
   "metadata": {},
   "outputs": [
    {
     "name": "stdout",
     "output_type": "stream",
     "text": [
      "[[ 50  30  10]\n",
      " [ 10  20  70]\n",
      " [ 60  45  70]\n",
      " [ 30  48  10]\n",
      " [ 50  15  30]\n",
      " [  5  35  35]\n",
      " [  5  20  70]\n",
      " [ 60  32  19]\n",
      " [ 30  50  45]\n",
      " [ 40  55  80]\n",
      " [ 30  39 100]\n",
      " [ 10  12  12]\n",
      " [ 20  23  23]\n",
      " [ 60  34  15]\n",
      " [ 80   4  68]\n",
      " [ 25  56  79]\n",
      " [ 12  45  90]\n",
      " [ 28  43  15]\n",
      " [ 26   0  32]\n",
      " [ 32  37  21]\n",
      " [ 45  48  12]\n",
      " [ 56  15  65]\n",
      " [ 67  45  33]\n",
      " [ 78  49   8]\n",
      " [ 89  45  18]\n",
      " [ 21  12  44]\n",
      " [ 11  20  59]\n",
      " [  1  32  70]\n",
      " [  5  20  45]\n",
      " [ 42  43  20]\n",
      " [ 32  60  30]\n",
      " [  5  15   5]\n",
      " [ 20  30   5]\n",
      " [ 30  51   2]\n",
      " [ 60  60  10]\n",
      " [ 10  10  60]\n",
      " [  0  30   0]\n",
      " [ 45  45  15]] [1 0 1 1 0 0 0 1 1 1 0 0 0 1 0 1 0 1 0 1 1 0 1 1 1 0 0 0 0 1 1 0 0 1 1 0 0\n",
      " 1]\n"
     ]
    }
   ],
   "source": [
    "data = pd.read_csv(\"cropfire.csv\")\n",
    "data = np.array(data)\n",
    "\n",
    "X = data[1:, 1:-1]\n",
    "y = data[1:, -1]\n",
    "y = y.astype('int')\n",
    "X = X.astype('int')\n",
    "print(X,y)\n"
   ]
  },
  {
   "cell_type": "code",
   "execution_count": 18,
   "id": "2cb55c69",
   "metadata": {},
   "outputs": [
    {
     "name": "stdout",
     "output_type": "stream",
     "text": [
      "[[0.14459396 0.85540604]]\n"
     ]
    }
   ],
   "source": [
    "X_train, X_test, y_train, y_test = train_test_split(X, y, test_size=0.3, random_state=0)\n",
    "log_reg = LogisticRegression()\n",
    "log_reg.fit(X_train, y_train)\n",
    "\n",
    "inputt=[int(x) for x in \"45 32 60\".split(' ')]\n",
    "final=[np.array(inputt)]\n",
    "\n",
    "b = log_reg.predict_proba(final)\n",
    "print(b)\n",
    "\n",
    "pickle.dump(log_reg,open('model.pkl','wb'))\n",
    "model=pickle.load(open('model.pkl','rb'))"
   ]
  },
  {
   "cell_type": "code",
   "execution_count": null,
   "id": "3f9d6f75",
   "metadata": {},
   "outputs": [],
   "source": []
  },
  {
   "cell_type": "code",
   "execution_count": null,
   "id": "e4df07e6",
   "metadata": {},
   "outputs": [],
   "source": []
  }
 ],
 "metadata": {
  "kernelspec": {
   "display_name": "Python 3",
   "language": "python",
   "name": "python3"
  },
  "language_info": {
   "codemirror_mode": {
    "name": "ipython",
    "version": 3
   },
   "file_extension": ".py",
   "mimetype": "text/x-python",
   "name": "python",
   "nbconvert_exporter": "python",
   "pygments_lexer": "ipython3",
   "version": "3.11.1"
  },
  "vscode": {
   "interpreter": {
    "hash": "5238573367df39f7286bb46f9ff5f08f63a01a80960060ce41e3c79b190280fa"
   }
  }
 },
 "nbformat": 4,
 "nbformat_minor": 5
}
